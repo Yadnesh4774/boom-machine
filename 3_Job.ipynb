{
 "cells": [
  {
   "cell_type": "code",
   "execution_count": 4,
   "id": "cc7fc500",
   "metadata": {},
   "outputs": [
    {
     "name": "stdout",
     "output_type": "stream",
     "text": [
      "Following is the maximum profit sequence of the jobs: \n",
      "['c', 'a', 'e']\n"
     ]
    }
   ],
   "source": [
    "def jobSc(arr, t):\n",
    "    n=(len(arr))\n",
    "    for i in range(n):\n",
    "        for j in range(n-1-i):\n",
    "            if arr[j][2]<arr[j+1][2]:\n",
    "                arr[j],arr[j+1]=arr[j+1],arr[j]\n",
    "    job=[-1]*t\n",
    "    \n",
    "    for i in range(n):\n",
    "        for j in range((arr[i][1]-1),-1,-1):\n",
    "            if job[j]==-1:\n",
    "                job[j]=arr[i][0]\n",
    "                break\n",
    "    print(job)  \n",
    "    \n",
    "arr = [['a',2,100],\n",
    "       ['b',1,19],\n",
    "       ['c',2,27],\n",
    "       ['d',1,25],\n",
    "       ['e',3,15]\n",
    "       ]\n",
    "\n",
    "print(\"Following is the maximum profit sequence of the jobs: \")\n",
    "jobSc(arr,3)\n",
    "    "
   ]
  },
  {
   "cell_type": "code",
   "execution_count": null,
   "id": "1432bb20",
   "metadata": {},
   "outputs": [],
   "source": []
  }
 ],
 "metadata": {
  "kernelspec": {
   "display_name": "Python 3 (ipykernel)",
   "language": "python",
   "name": "python3"
  },
  "language_info": {
   "codemirror_mode": {
    "name": "ipython",
    "version": 3
   },
   "file_extension": ".py",
   "mimetype": "text/x-python",
   "name": "python",
   "nbconvert_exporter": "python",
   "pygments_lexer": "ipython3",
   "version": "3.10.9"
  }
 },
 "nbformat": 4,
 "nbformat_minor": 5
}
