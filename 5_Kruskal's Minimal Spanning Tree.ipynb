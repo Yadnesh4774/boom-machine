{
 "cells": [
  {
   "cell_type": "code",
   "execution_count": 3,
   "id": "53fccc66",
   "metadata": {},
   "outputs": [
    {
     "name": "stdout",
     "output_type": "stream",
     "text": [
      "{(1, 3, 1), (2, 3, 4), (0, 3, 3)}\n"
     ]
    }
   ],
   "source": [
    "class Graph:\n",
    "    def __init__(self, vertices):\n",
    "        self.vertices = vertices\n",
    "        self.edges = []\n",
    "\n",
    "    def add_edge(self, u, v, weight):\n",
    "        self.edges.append((u, v, weight))\n",
    "\n",
    "    def find_parent(self, parent, i):\n",
    "        if parent[i] != i:\n",
    "            parent[i] = self.find_parent(parent, parent[i])\n",
    "        return parent[i]\n",
    "\n",
    "    def union(self, parent, rank, x, y):\n",
    "        root_x = self.find_parent(parent, x)\n",
    "        root_y = self.find_parent(parent, y)\n",
    "        if rank[root_x] < rank[root_y]:\n",
    "            parent[root_x] = root_y\n",
    "        elif rank[root_x] > rank[root_y]:\n",
    "            parent[root_y] = root_x\n",
    "        else:\n",
    "            parent[root_y] = root_x\n",
    "            rank[root_x] += 1\n",
    "\n",
    "    def kruskal(self):\n",
    "        minimum_spanning_tree = set()\n",
    "        parent = {v: v for v in self.vertices}\n",
    "        rank = {v: 0 for v in self.vertices}\n",
    "        sorted_edges = sorted(self.edges, key=lambda x: x[2])\n",
    "        for edge in sorted_edges:\n",
    "            u, v, weight = edge\n",
    "            root_u = self.find_parent(parent, u)\n",
    "            root_v = self.find_parent(parent, v)\n",
    "            if root_u != root_v:\n",
    "                minimum_spanning_tree.add(edge)\n",
    "                self.union(parent, rank, root_u, root_v)\n",
    "        return minimum_spanning_tree\n",
    "\n",
    "g = Graph([0, 1, 2, 3])\n",
    "g.add_edge(0, 1, 5)\n",
    "g.add_edge(0, 2, 10)\n",
    "g.add_edge(0, 3, 3)\n",
    "g.add_edge(1, 3, 1)\n",
    "g.add_edge(2, 3, 4)\n",
    "minimum_spanning_tree = g.kruskal()\n",
    "print(minimum_spanning_tree)"
   ]
  }
 ],
 "metadata": {
  "kernelspec": {
   "display_name": "Python 3 (ipykernel)",
   "language": "python",
   "name": "python3"
  },
  "language_info": {
   "codemirror_mode": {
    "name": "ipython",
    "version": 3
   },
   "file_extension": ".py",
   "mimetype": "text/x-python",
   "name": "python",
   "nbconvert_exporter": "python",
   "pygments_lexer": "ipython3",
   "version": "3.11.0"
  }
 },
 "nbformat": 4,
 "nbformat_minor": 5
}
