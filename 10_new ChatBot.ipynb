{
 "cells": [
  {
   "cell_type": "code",
   "execution_count": 8,
   "id": "71dbef4a",
   "metadata": {},
   "outputs": [],
   "source": [
    "from tkinter import *\n",
    "root=Tk()\n",
    "root.title(\"Chatbot\")\n",
    "def send():\n",
    "    send = \"You -> \"+ e.get()\n",
    "    txt.insert(END,\"n\"+send)\n",
    "    user=e.get().lower()\n",
    "    if(user==\"hello\"):\n",
    "        txt.insert(END,\"\\n\"+\"Bot->Hi\")\n",
    "    elif(user==\"hi\" or user==\"hii\" or user ==\"hiii\"):\n",
    "        txt.insert(END,\"\\n\"+\"Bot->Hello\")\n",
    "    elif \"add\" in user and \"cart\" in user:\n",
    "        txt.insert(END,\"\\n\"+\"Bot->Hello to add cart\")\n",
    "    else:\n",
    "        txt.insert(END,\"\\n\"+\"Bot->sorry\")\n",
    "        e.delete(0,END)\n",
    "\n",
    "txt= Text(root)\n",
    "txt.grid(row=0,column=0,columnspan=2)\n",
    "e=Entry(root,width=100)\n",
    "e.grid(row=1,column=0)\n",
    "send= Button(root,text=\"Send\",command=send).grid(row=1,column=1)\n",
    "root.bind('<Return>', lambda event: send())\n",
    "\n",
    "root.mainloop()"
   ]
  },
  {
   "cell_type": "code",
   "execution_count": null,
   "id": "e6ff699b",
   "metadata": {},
   "outputs": [],
   "source": []
  }
 ],
 "metadata": {
  "kernelspec": {
   "display_name": "Python 3 (ipykernel)",
   "language": "python",
   "name": "python3"
  },
  "language_info": {
   "codemirror_mode": {
    "name": "ipython",
    "version": 3
   },
   "file_extension": ".py",
   "mimetype": "text/x-python",
   "name": "python",
   "nbconvert_exporter": "python",
   "pygments_lexer": "ipython3",
   "version": "3.10.9"
  }
 },
 "nbformat": 4,
 "nbformat_minor": 5
}
