{
 "cells": [
  {
   "cell_type": "code",
   "execution_count": 10,
   "id": "aea27fdd",
   "metadata": {},
   "outputs": [
    {
     "name": "stdout",
     "output_type": "stream",
     "text": [
      "Path Found: ['A', 'E', 'D', 'G']\n"
     ]
    },
    {
     "data": {
      "text/plain": [
       "['A', 'E', 'D', 'G']"
      ]
     },
     "execution_count": 10,
     "metadata": {},
     "output_type": "execute_result"
    }
   ],
   "source": [
    "def AStar(startNode, stopNode):\n",
    "    \n",
    "    openSet = set([startNode])\n",
    "    closeSet = set()\n",
    "    dist = {}  # store distance from start node\n",
    "    neighbour = {}  # Store adjacency nodes of all nodes\n",
    "    \n",
    "    dist[startNode] = 0\n",
    "    neighbour[startNode] = None\n",
    "    \n",
    "    while len(openSet) > 0:\n",
    "        currNode = None\n",
    "        \n",
    "        for v in openSet:\n",
    "            if currNode is None or dist[v] + Heuristics(v) < dist[currNode] + Heuristics(currNode):\n",
    "                currNode = v\n",
    "        \n",
    "        if currNode == stopNode or currNode not in graph:\n",
    "            break\n",
    "        else:\n",
    "            for m, weight in GetNeighbour(currNode):\n",
    "                if m not in openSet and m not in closeSet:\n",
    "                    openSet.add(m)\n",
    "                    neighbour[m] = currNode\n",
    "                    dist[m] = dist[currNode] + weight\n",
    "                else:\n",
    "                    if dist[m] > dist[currNode] + weight:\n",
    "                        dist[m] = dist[currNode] + weight\n",
    "                        neighbour[m] = currNode\n",
    "                        \n",
    "                        if m in closeSet:\n",
    "                            closeSet.remove(m)\n",
    "                            openSet.add(m)\n",
    "        \n",
    "        openSet.remove(currNode)\n",
    "        closeSet.add(currNode)\n",
    "    \n",
    "    if currNode is None:\n",
    "        print('Path does not exist')\n",
    "        return None\n",
    "    \n",
    "    if currNode == stopNode:\n",
    "        path = []\n",
    "        while neighbour[currNode] is not None:\n",
    "            path.append(currNode)\n",
    "            currNode = neighbour[currNode]\n",
    "        path.append(startNode)\n",
    "        path.reverse()\n",
    "        print('Path Found: {}'.format(path))\n",
    "        return path\n",
    "    \n",
    "    print('Path does not exist')\n",
    "    return None\n",
    "\n",
    "def GetNeighbour(currNode):\n",
    "    if currNode in graph:\n",
    "        return graph[currNode]\n",
    "    else:\n",
    "        return None\n",
    "\n",
    "def Heuristics(n):\n",
    "    hDist = {\n",
    "        'A': 11,\n",
    "        'B': 6,\n",
    "        'C': 99,\n",
    "        'D': 1,\n",
    "        'E': 7,\n",
    "        'G': 0,\n",
    "    }\n",
    "    return hDist[n]\n",
    "\n",
    "graph = {\n",
    "    'A': [('B', 2), ('E', 3)],\n",
    "    'B': [('C', 1), ('G', 9)],\n",
    "    'C': None,\n",
    "    'E': [('D', 6)],\n",
    "    'D': [('G', 1)]\n",
    "}\n",
    "\n",
    "AStar('A', 'G')"
   ]
  }
 ],
 "metadata": {
  "kernelspec": {
   "display_name": "Python 3 (ipykernel)",
   "language": "python",
   "name": "python3"
  },
  "language_info": {
   "codemirror_mode": {
    "name": "ipython",
    "version": 3
   },
   "file_extension": ".py",
   "mimetype": "text/x-python",
   "name": "python",
   "nbconvert_exporter": "python",
   "pygments_lexer": "ipython3",
   "version": "3.10.9"
  }
 },
 "nbformat": 4,
 "nbformat_minor": 5
}
