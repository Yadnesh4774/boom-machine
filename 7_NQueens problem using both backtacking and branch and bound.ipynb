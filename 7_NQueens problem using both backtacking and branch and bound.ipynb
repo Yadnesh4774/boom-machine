{
 "cells": [
  {
   "cell_type": "code",
   "execution_count": 15,
   "id": "262826ec",
   "metadata": {},
   "outputs": [
    {
     "name": "stdout",
     "output_type": "stream",
     "text": [
      "1 0 0 0 0 0 0 0 \n",
      "0 0 0 0 0 0 1 0 \n",
      "0 0 0 0 1 0 0 0 \n",
      "0 0 0 0 0 0 0 1 \n",
      "0 1 0 0 0 0 0 0 \n",
      "0 0 0 1 0 0 0 0 \n",
      "0 0 0 0 0 1 0 0 \n",
      "0 0 1 0 0 0 0 0 \n"
     ]
    },
    {
     "data": {
      "text/plain": [
       "True"
      ]
     },
     "execution_count": 15,
     "metadata": {},
     "output_type": "execute_result"
    }
   ],
   "source": [
    "#N-Queens problem using backtracking:\n",
    "global N\n",
    "N = 8\n",
    "\n",
    "def printsolutionBoard(board):\n",
    "    for i in range(N):\n",
    "        for j in range(N):\n",
    "            if(board[i][j]==1):\n",
    "                print(\"1\",end = \" \")\n",
    "            else:\n",
    "                print(\"0\",end = \" \")\n",
    "        print()        \n",
    "\n",
    "def isSafe(board,row,col):\n",
    "    for i in range(N):\n",
    "        if(board[row][i]==1):\n",
    "            return False\n",
    "    for i,j in zip(range(row,-1,-1),range(col,-1,-1)):\n",
    "        if(board[i][j] == 1):\n",
    "            return False\n",
    "    for i,j in zip(range(row,N,1),range(col,-1,-1)):\n",
    "        if(board[i][j] == 1):\n",
    "            return False\n",
    "    return True\n",
    "\n",
    "\n",
    "def solveNQUtil(board,col):\n",
    "    if(col>=N):\n",
    "        return True\n",
    "    \n",
    "    for i in range(N):\n",
    "        if isSafe(board,i,col):\n",
    "            board[i][col] = 1\n",
    "            \n",
    "            if(solveNQUtil(board,col+1)==True):\n",
    "                return True\n",
    "            \n",
    "            board[i][col] = 0\n",
    "            \n",
    "    return False\n",
    "\n",
    "def solveNQ():\n",
    "    board = [[0 for i in range(N)]for j in range(N)]\n",
    "    \n",
    "    if(solveNQUtil(board,0) == False):\n",
    "        print(\"No solution exists\")\n",
    "        return False\n",
    "    \n",
    "    printsolutionBoard(board)\n",
    "    return True\n",
    "\n",
    "solveNQ()"
   ]
  },
  {
   "cell_type": "code",
   "execution_count": 9,
   "id": "7a1cab77",
   "metadata": {},
   "outputs": [
    {
     "name": "stdout",
     "output_type": "stream",
     "text": [
      "1 0 0 0 0 0 0 0 \n",
      "0 0 0 0 0 0 1 0 \n",
      "0 0 0 0 1 0 0 0 \n",
      "0 0 0 0 0 0 0 1 \n",
      "0 1 0 0 0 0 0 0 \n",
      "0 0 0 1 0 0 0 0 \n",
      "0 0 0 0 0 1 0 0 \n",
      "0 0 1 0 0 0 0 0 \n"
     ]
    },
    {
     "data": {
      "text/plain": [
       "True"
      ]
     },
     "execution_count": 9,
     "metadata": {},
     "output_type": "execute_result"
    }
   ],
   "source": [
    "#NQueen's problem using branch and bound:\n",
    "\n",
    "global N\n",
    "N = 8\n",
    "\n",
    "def printsolutionBoard(board):\n",
    "    for i in range(N):\n",
    "        for j in range(N):\n",
    "            if(board[i][j] == 1):\n",
    "                print(\"1\",end = \" \")\n",
    "            else:\n",
    "                print(\"0\",end = \" \")\n",
    "        print()\n",
    "\n",
    "        \n",
    "def isSafe(row,col,slashCode,backslashCode,slashCodeLookup,backslashCodeLookup,rowLookup):\n",
    "    if(slashCodeLookup[slashCode[row][col]] or backslashCodeLookup[backslashCode[row][col]] or rowLookup[row]):\n",
    "        return False\n",
    "    return True\n",
    "\n",
    "\n",
    "def solveNQueensUtil(board,col,slashCode,backslashCode,slashCodeLookup,backslashCodeLookup,rowLookup):\n",
    "    if(col>=N):\n",
    "        return True\n",
    "    for i in range(N):\n",
    "        if(isSafe(i,col,slashCode,backslashCode,slashCodeLookup,backslashCodeLookup,rowLookup)):\n",
    "            board[i][col] = 1\n",
    "            slashCodeLookup[slashCode[i][col]] = True\n",
    "            backslashCodeLookup[backslashCode[i][col]] = True\n",
    "            rowLookup[i] = True\n",
    "            \n",
    "            if(solveNQueensUtil(board,col+1,slashCode,backslashCode,slashCodeLookup,backslashCodeLookup,rowLookup) == True):\n",
    "                return True\n",
    "            \n",
    "            board[i][col] = 0\n",
    "            slashCodeLookup[slashCode[i][col]] = False\n",
    "            backslashCodeLookup[backslashCode[i][col]] = False\n",
    "            rowLookup[i] = False\n",
    "            \n",
    "    return False\n",
    "\n",
    "def solveNQueens():\n",
    "    board = [[0 for i in range(N)]for j in range(N)]\n",
    "    slashCode = [[0 for i in range(N)]for j in range(N)]\n",
    "    backslashCode = [[0 for i in range(N)]for j in range(N)]\n",
    "    \n",
    "    X = 2*N - 1\n",
    "    slashCodeLookup = [False]*X\n",
    "    backslashCodeLookup = [False]*X\n",
    "    rowLookup = [False]*X\n",
    "    \n",
    "    for rr in range(N):\n",
    "        for cc in range(N):\n",
    "            slashCode[rr][cc] = rr + cc\n",
    "            backslashCode[rr][cc] = rr - cc + (N-1)\n",
    "            \n",
    "    if(solveNQueensUtil(board,0,slashCode,backslashCode,slashCodeLookup,backslashCodeLookup,rowLookup) == False):\n",
    "        print(\"Solution does not exist\")\n",
    "        return False\n",
    "    \n",
    "    printsolutionBoard(board)\n",
    "    return True\n",
    "\n",
    "solveNQueens()\n",
    "    "
   ]
  },
  {
   "cell_type": "code",
   "execution_count": null,
   "id": "28a58085",
   "metadata": {},
   "outputs": [],
   "source": []
  }
 ],
 "metadata": {
  "kernelspec": {
   "display_name": "Python 3 (ipykernel)",
   "language": "python",
   "name": "python3"
  },
  "language_info": {
   "codemirror_mode": {
    "name": "ipython",
    "version": 3
   },
   "file_extension": ".py",
   "mimetype": "text/x-python",
   "name": "python",
   "nbconvert_exporter": "python",
   "pygments_lexer": "ipython3",
   "version": "3.10.9"
  }
 },
 "nbformat": 4,
 "nbformat_minor": 5
}
