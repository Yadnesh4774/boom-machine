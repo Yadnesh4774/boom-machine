{
 "cells": [
  {
   "cell_type": "code",
   "execution_count": null,
   "id": "660f8733",
   "metadata": {},
   "outputs": [],
   "source": [
    "\n",
    "#DIJKSTRA'S\n",
    "INF = 9999999\n",
    "graph = [\n",
    "        #A  B  C  D  E  F\n",
    "        [0, 3, 2, 5, 0, 0],\n",
    "        [3, 0, 0, 1, 4, 0],\n",
    "        [2, 0, 0, 2, 0, 1],\n",
    "        [5, 1, 2, 0, 3, 0],\n",
    "        [0, 4, 2, 3, 0, 2],\n",
    "        [0, 0, 1, 0, 2, 0],\n",
    "        ]\n",
    "V = len(graph[0])\n",
    "def printSolution(dist):\n",
    "    print(\"Vertex -> Distance\")\n",
    "    for node in range(V):\n",
    "        print(\"  \" + str(node) + \"    ->    \" + str(dist[node]))\n",
    "\n",
    "def minDistance(dist, selected_node):\n",
    "    min = INF\n",
    "    for v in range(V):\n",
    "        # linear search to find minimum distance node in dist array (chart wala)\n",
    "        if dist[v] < min and selected_node[v] == False:\n",
    "            min = dist[v]\n",
    "            min_index = v\n",
    "\n",
    "    return min_index\n",
    "\n",
    "def dijkstra(src):\n",
    "    dist = [INF] * V\n",
    "    selected_node = [False] * V\n",
    "    dist[src] = 0\n",
    "\n",
    "    for node in range(V): # iterating vertices\n",
    "        u = minDistance(dist, selected_node)\n",
    "        selected_node[u] = True\n",
    "        \n",
    "        for v in range(V): # iterating neighbours\n",
    "            # graph[u][v] == check for edges present (i.e., we need only connected vertices)\n",
    "            # selected_node[v] == check destination already visited or not\n",
    "            # minimum distance condition, if min, then update else, continue\n",
    "            if (graph[u][v] > 0 and selected_node[v] == False and dist[v] > dist[u] + graph[u][v]):\n",
    "                dist[v] = dist[u] + graph[u][v]\n",
    "\n",
    "    printSolution(dist)\n",
    "\n",
    "    \n",
    "dijkstra(0)\n"
   ]
  }
 ],
 "metadata": {
  "kernelspec": {
   "display_name": "Python 3 (ipykernel)",
   "language": "python",
   "name": "python3"
  },
  "language_info": {
   "codemirror_mode": {
    "name": "ipython",
    "version": 3
   },
   "file_extension": ".py",
   "mimetype": "text/x-python",
   "name": "python",
   "nbconvert_exporter": "python",
   "pygments_lexer": "ipython3",
   "version": "3.10.9"
  }
 },
 "nbformat": 4,
 "nbformat_minor": 5
}
