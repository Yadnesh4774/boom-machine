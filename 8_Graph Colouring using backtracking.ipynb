{
 "cells": [
  {
   "cell_type": "code",
   "execution_count": 3,
   "id": "d614504b",
   "metadata": {},
   "outputs": [
    {
     "name": "stdout",
     "output_type": "stream",
     "text": [
      "1 2 3 2 "
     ]
    },
    {
     "data": {
      "text/plain": [
       "True"
      ]
     },
     "execution_count": 3,
     "metadata": {},
     "output_type": "execute_result"
    }
   ],
   "source": [
    "#Graph Coloring\n",
    "\n",
    "V = 4\n",
    "m = 3\n",
    "\n",
    "graph = [[0,1,1,1],\n",
    "         [1,0,1,0],\n",
    "         [1,1,0,1],\n",
    "         [1,0,1,0]\n",
    "        ]\n",
    "\n",
    "def isSafe(v,colour,c):\n",
    "    for i in range(V):\n",
    "        if(graph[v][i] == 1 and colour[i] == c):\n",
    "            return False\n",
    "    return True\n",
    "\n",
    "def solveGraphUtil(m,colour,v):\n",
    "    if(v == V):\n",
    "        return True\n",
    "    \n",
    "    for c in range(1,m+1):\n",
    "        if(isSafe(v,colour,c)):\n",
    "            colour[v] = c\n",
    "            \n",
    "            if(solveGraphUtil(m,colour,v+1) == True):\n",
    "                return True\n",
    "            \n",
    "            colour[v] = 0\n",
    "    return False\n",
    "\n",
    "def solveGraph(m):\n",
    "    colour = [0]*V\n",
    "    \n",
    "    if(solveGraphUtil(m,colour,0) == False):\n",
    "        print(\"No solution exists\")\n",
    "        return False\n",
    "    \n",
    "    for i in colour:\n",
    "        print(i,end = \" \")\n",
    "    return True\n",
    "    \n",
    "solveGraph(m)\n",
    "            "
   ]
  },
  {
   "cell_type": "code",
   "execution_count": null,
   "id": "ada735dd",
   "metadata": {},
   "outputs": [],
   "source": []
  }
 ],
 "metadata": {
  "kernelspec": {
   "display_name": "Python 3 (ipykernel)",
   "language": "python",
   "name": "python3"
  },
  "language_info": {
   "codemirror_mode": {
    "name": "ipython",
    "version": 3
   },
   "file_extension": ".py",
   "mimetype": "text/x-python",
   "name": "python",
   "nbconvert_exporter": "python",
   "pygments_lexer": "ipython3",
   "version": "3.10.9"
  }
 },
 "nbformat": 4,
 "nbformat_minor": 5
}
